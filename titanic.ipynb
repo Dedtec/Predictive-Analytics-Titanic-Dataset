{
 "cells": [
  {
   "cell_type": "markdown",
   "id": "2d2e41fd",
   "metadata": {},
   "source": [
    "# Data Exploration and Visualization\n",
    "We start by exploring and visualizing the dataset to understand its structure and key features."
   ]
  },
  {
   "cell_type": "code",
   "execution_count": 1,
   "id": "c2737a06",
   "metadata": {},
   "outputs": [
    {
     "data": {
      "text/html": [
       "<div>\n",
       "<style scoped>\n",
       "    .dataframe tbody tr th:only-of-type {\n",
       "        vertical-align: middle;\n",
       "    }\n",
       "\n",
       "    .dataframe tbody tr th {\n",
       "        vertical-align: top;\n",
       "    }\n",
       "\n",
       "    .dataframe thead th {\n",
       "        text-align: right;\n",
       "    }\n",
       "</style>\n",
       "<table border=\"1\" class=\"dataframe\">\n",
       "  <thead>\n",
       "    <tr style=\"text-align: right;\">\n",
       "      <th></th>\n",
       "      <th>Survived</th>\n",
       "      <th>Pclass</th>\n",
       "      <th>Name</th>\n",
       "      <th>Sex</th>\n",
       "      <th>Age</th>\n",
       "      <th>Siblings/Spouses Aboard</th>\n",
       "      <th>Parents/Children Aboard</th>\n",
       "      <th>Fare</th>\n",
       "    </tr>\n",
       "  </thead>\n",
       "  <tbody>\n",
       "    <tr>\n",
       "      <th>0</th>\n",
       "      <td>0</td>\n",
       "      <td>3</td>\n",
       "      <td>Mr. Owen Harris Braund</td>\n",
       "      <td>male</td>\n",
       "      <td>22.0</td>\n",
       "      <td>1</td>\n",
       "      <td>0</td>\n",
       "      <td>7.2500</td>\n",
       "    </tr>\n",
       "    <tr>\n",
       "      <th>1</th>\n",
       "      <td>1</td>\n",
       "      <td>1</td>\n",
       "      <td>Mrs. John Bradley (Florence Briggs Thayer) Cum...</td>\n",
       "      <td>female</td>\n",
       "      <td>38.0</td>\n",
       "      <td>1</td>\n",
       "      <td>0</td>\n",
       "      <td>71.2833</td>\n",
       "    </tr>\n",
       "    <tr>\n",
       "      <th>2</th>\n",
       "      <td>1</td>\n",
       "      <td>3</td>\n",
       "      <td>Miss. Laina Heikkinen</td>\n",
       "      <td>female</td>\n",
       "      <td>26.0</td>\n",
       "      <td>0</td>\n",
       "      <td>0</td>\n",
       "      <td>7.9250</td>\n",
       "    </tr>\n",
       "    <tr>\n",
       "      <th>3</th>\n",
       "      <td>1</td>\n",
       "      <td>1</td>\n",
       "      <td>Mrs. Jacques Heath (Lily May Peel) Futrelle</td>\n",
       "      <td>female</td>\n",
       "      <td>35.0</td>\n",
       "      <td>1</td>\n",
       "      <td>0</td>\n",
       "      <td>53.1000</td>\n",
       "    </tr>\n",
       "    <tr>\n",
       "      <th>4</th>\n",
       "      <td>0</td>\n",
       "      <td>3</td>\n",
       "      <td>Mr. William Henry Allen</td>\n",
       "      <td>male</td>\n",
       "      <td>35.0</td>\n",
       "      <td>0</td>\n",
       "      <td>0</td>\n",
       "      <td>8.0500</td>\n",
       "    </tr>\n",
       "  </tbody>\n",
       "</table>\n",
       "</div>"
      ],
      "text/plain": [
       "   Survived  Pclass                                               Name  \\\n",
       "0         0       3                             Mr. Owen Harris Braund   \n",
       "1         1       1  Mrs. John Bradley (Florence Briggs Thayer) Cum...   \n",
       "2         1       3                              Miss. Laina Heikkinen   \n",
       "3         1       1        Mrs. Jacques Heath (Lily May Peel) Futrelle   \n",
       "4         0       3                            Mr. William Henry Allen   \n",
       "\n",
       "      Sex   Age  Siblings/Spouses Aboard  Parents/Children Aboard     Fare  \n",
       "0    male  22.0                        1                        0   7.2500  \n",
       "1  female  38.0                        1                        0  71.2833  \n",
       "2  female  26.0                        0                        0   7.9250  \n",
       "3  female  35.0                        1                        0  53.1000  \n",
       "4    male  35.0                        0                        0   8.0500  "
      ]
     },
     "execution_count": 1,
     "metadata": {},
     "output_type": "execute_result"
    }
   ],
   "source": [
    "import pandas as pd\n",
    "import matplotlib.pyplot as plt\n",
    "import seaborn as sns\n",
    "\n",
    "df = pd.read_csv('titanic.csv')\n",
    "df.head()"
   ]
  },
  {
   "cell_type": "markdown",
   "id": "085ee4b4",
   "metadata": {},
   "source": [
    "## Dataset Overview\n",
    "We load the dataset and display the first few rows to get an overview of the available data."
   ]
  },
  {
   "cell_type": "code",
   "execution_count": 2,
   "id": "8267197e",
   "metadata": {},
   "outputs": [
    {
     "name": "stdout",
     "output_type": "stream",
     "text": [
      "<class 'pandas.core.frame.DataFrame'>\n",
      "RangeIndex: 887 entries, 0 to 886\n",
      "Data columns (total 8 columns):\n",
      " #   Column                   Non-Null Count  Dtype  \n",
      "---  ------                   --------------  -----  \n",
      " 0   Survived                 887 non-null    int64  \n",
      " 1   Pclass                   887 non-null    int64  \n",
      " 2   Name                     887 non-null    object \n",
      " 3   Sex                      887 non-null    object \n",
      " 4   Age                      887 non-null    float64\n",
      " 5   Siblings/Spouses Aboard  887 non-null    int64  \n",
      " 6   Parents/Children Aboard  887 non-null    int64  \n",
      " 7   Fare                     887 non-null    float64\n",
      "dtypes: float64(2), int64(4), object(2)\n",
      "memory usage: 55.6+ KB\n"
     ]
    },
    {
     "data": {
      "text/html": [
       "<div>\n",
       "<style scoped>\n",
       "    .dataframe tbody tr th:only-of-type {\n",
       "        vertical-align: middle;\n",
       "    }\n",
       "\n",
       "    .dataframe tbody tr th {\n",
       "        vertical-align: top;\n",
       "    }\n",
       "\n",
       "    .dataframe thead th {\n",
       "        text-align: right;\n",
       "    }\n",
       "</style>\n",
       "<table border=\"1\" class=\"dataframe\">\n",
       "  <thead>\n",
       "    <tr style=\"text-align: right;\">\n",
       "      <th></th>\n",
       "      <th>Survived</th>\n",
       "      <th>Pclass</th>\n",
       "      <th>Age</th>\n",
       "      <th>Siblings/Spouses Aboard</th>\n",
       "      <th>Parents/Children Aboard</th>\n",
       "      <th>Fare</th>\n",
       "    </tr>\n",
       "  </thead>\n",
       "  <tbody>\n",
       "    <tr>\n",
       "      <th>count</th>\n",
       "      <td>887.000000</td>\n",
       "      <td>887.000000</td>\n",
       "      <td>887.000000</td>\n",
       "      <td>887.000000</td>\n",
       "      <td>887.000000</td>\n",
       "      <td>887.00000</td>\n",
       "    </tr>\n",
       "    <tr>\n",
       "      <th>mean</th>\n",
       "      <td>0.385569</td>\n",
       "      <td>2.305524</td>\n",
       "      <td>29.471443</td>\n",
       "      <td>0.525366</td>\n",
       "      <td>0.383315</td>\n",
       "      <td>32.30542</td>\n",
       "    </tr>\n",
       "    <tr>\n",
       "      <th>std</th>\n",
       "      <td>0.487004</td>\n",
       "      <td>0.836662</td>\n",
       "      <td>14.121908</td>\n",
       "      <td>1.104669</td>\n",
       "      <td>0.807466</td>\n",
       "      <td>49.78204</td>\n",
       "    </tr>\n",
       "    <tr>\n",
       "      <th>min</th>\n",
       "      <td>0.000000</td>\n",
       "      <td>1.000000</td>\n",
       "      <td>0.420000</td>\n",
       "      <td>0.000000</td>\n",
       "      <td>0.000000</td>\n",
       "      <td>0.00000</td>\n",
       "    </tr>\n",
       "    <tr>\n",
       "      <th>25%</th>\n",
       "      <td>0.000000</td>\n",
       "      <td>2.000000</td>\n",
       "      <td>20.250000</td>\n",
       "      <td>0.000000</td>\n",
       "      <td>0.000000</td>\n",
       "      <td>7.92500</td>\n",
       "    </tr>\n",
       "    <tr>\n",
       "      <th>50%</th>\n",
       "      <td>0.000000</td>\n",
       "      <td>3.000000</td>\n",
       "      <td>28.000000</td>\n",
       "      <td>0.000000</td>\n",
       "      <td>0.000000</td>\n",
       "      <td>14.45420</td>\n",
       "    </tr>\n",
       "    <tr>\n",
       "      <th>75%</th>\n",
       "      <td>1.000000</td>\n",
       "      <td>3.000000</td>\n",
       "      <td>38.000000</td>\n",
       "      <td>1.000000</td>\n",
       "      <td>0.000000</td>\n",
       "      <td>31.13750</td>\n",
       "    </tr>\n",
       "    <tr>\n",
       "      <th>max</th>\n",
       "      <td>1.000000</td>\n",
       "      <td>3.000000</td>\n",
       "      <td>80.000000</td>\n",
       "      <td>8.000000</td>\n",
       "      <td>6.000000</td>\n",
       "      <td>512.32920</td>\n",
       "    </tr>\n",
       "  </tbody>\n",
       "</table>\n",
       "</div>"
      ],
      "text/plain": [
       "         Survived      Pclass         Age  Siblings/Spouses Aboard  \\\n",
       "count  887.000000  887.000000  887.000000               887.000000   \n",
       "mean     0.385569    2.305524   29.471443                 0.525366   \n",
       "std      0.487004    0.836662   14.121908                 1.104669   \n",
       "min      0.000000    1.000000    0.420000                 0.000000   \n",
       "25%      0.000000    2.000000   20.250000                 0.000000   \n",
       "50%      0.000000    3.000000   28.000000                 0.000000   \n",
       "75%      1.000000    3.000000   38.000000                 1.000000   \n",
       "max      1.000000    3.000000   80.000000                 8.000000   \n",
       "\n",
       "       Parents/Children Aboard       Fare  \n",
       "count               887.000000  887.00000  \n",
       "mean                  0.383315   32.30542  \n",
       "std                   0.807466   49.78204  \n",
       "min                   0.000000    0.00000  \n",
       "25%                   0.000000    7.92500  \n",
       "50%                   0.000000   14.45420  \n",
       "75%                   0.000000   31.13750  \n",
       "max                   6.000000  512.32920  "
      ]
     },
     "execution_count": 2,
     "metadata": {},
     "output_type": "execute_result"
    }
   ],
   "source": [
    "# Exploratory Data Analysis\n",
    "df.info()\n",
    "df.describe()"
   ]
  },
  {
   "cell_type": "markdown",
   "id": "14f3d04b",
   "metadata": {},
   "source": [
    "## Visualizations"
   ]
  },
  {
   "cell_type": "code",
   "execution_count": 3,
   "id": "ecd8815d",
   "metadata": {},
   "outputs": [
    {
     "data": {
      "image/png": "[encoded data removed]",
      "text/plain": [
       "<Figure size 900x300 with 3 Axes>"
      ]
     },
     "metadata": {},
     "output_type": "display_data"
    }
   ],
   "source": [
    "fig, axes = plt.subplots(1, 3, figsize=(9, 3))\n",
    "\n",
    "sns.countplot(ax=axes[0], x='Survived', data=df)\n",
    "axes[0].set_title('Survival Count')\n",
    "\n",
    "sns.countplot(ax=axes[1], x='Pclass', hue='Survived', data=df)\n",
    "axes[1].set_title('Survival Count by Passenger Class')\n",
    "\n",
    "sns.countplot(ax=axes[2], x='Sex', hue='Survived', data=df)\n",
    "axes[2].set_title('Survival Count by Gender')\n",
    "\n",
    "plt.tight_layout()\n",
    "plt.show()"
   ]
  },
  {
   "cell_type": "markdown",
   "id": "e81ca243",
   "metadata": {
    "lines_to_next_cell": 2
   },
   "source": [
    "- **Survival Count**: Shows the number of passengers who survived and those who did not.\n",
    "  - **Conclusion**: There were more non-survivors than survivors.\n",
    "- **Survival Count by Passenger Class**: Illustrates how survival rates differ across different passenger classes.\n",
    "  - **Conclusion**: Passengers in first class had a higher survival rate compared to those in second and third classes.\n",
    "- **Survival Count by Gender**: Highlights the difference in survival rates between males and females.\n",
    "  - **Conclusion**: Females had a higher survival rate compared to males."
   ]
  },
  {
   "cell_type": "markdown",
   "id": "2add71bb",
   "metadata": {},
   "source": [
    "# Data Cleaning\n",
    "Count missing values in the dataset."
   ]
  },
  {
   "cell_type": "code",
   "execution_count": 4,
   "id": "cdf6015e",
   "metadata": {},
   "outputs": [
    {
     "data": {
      "text/plain": [
       "Survived                   0\n",
       "Pclass                     0\n",
       "Name                       0\n",
       "Sex                        0\n",
       "Age                        0\n",
       "Siblings/Spouses Aboard    0\n",
       "Parents/Children Aboard    0\n",
       "Fare                       0\n",
       "dtype: int64"
      ]
     },
     "execution_count": 4,
     "metadata": {},
     "output_type": "execute_result"
    }
   ],
   "source": [
    "df.isnull().sum()"
   ]
  },
  {
   "cell_type": "markdown",
   "id": "f87aabed",
   "metadata": {},
   "source": [
    "### Handle missing values\n",
    "There are no missing values in the dataset."
   ]
  },
  {
   "cell_type": "markdown",
   "id": "79e8ddd2",
   "metadata": {},
   "source": [
    "# Feature Engineering"
   ]
  },
  {
   "cell_type": "code",
   "execution_count": 5,
   "id": "bce31be1",
   "metadata": {},
   "outputs": [
    {
     "data": {
      "text/html": [
       "<div>\n",
       "<style scoped>\n",
       "    .dataframe tbody tr th:only-of-type {\n",
       "        vertical-align: middle;\n",
       "    }\n",
       "\n",
       "    .dataframe tbody tr th {\n",
       "        vertical-align: top;\n",
       "    }\n",
       "\n",
       "    .dataframe thead th {\n",
       "        text-align: right;\n",
       "    }\n",
       "</style>\n",
       "<table border=\"1\" class=\"dataframe\">\n",
       "  <thead>\n",
       "    <tr style=\"text-align: right;\">\n",
       "      <th></th>\n",
       "      <th>Survived</th>\n",
       "      <th>Pclass</th>\n",
       "      <th>Age</th>\n",
       "      <th>Fare</th>\n",
       "      <th>Sex_male</th>\n",
       "      <th>FamilySize</th>\n",
       "    </tr>\n",
       "  </thead>\n",
       "  <tbody>\n",
       "    <tr>\n",
       "      <th>0</th>\n",
       "      <td>0</td>\n",
       "      <td>3</td>\n",
       "      <td>22.0</td>\n",
       "      <td>7.2500</td>\n",
       "      <td>1</td>\n",
       "      <td>2</td>\n",
       "    </tr>\n",
       "    <tr>\n",
       "      <th>1</th>\n",
       "      <td>1</td>\n",
       "      <td>1</td>\n",
       "      <td>38.0</td>\n",
       "      <td>71.2833</td>\n",
       "      <td>0</td>\n",
       "      <td>2</td>\n",
       "    </tr>\n",
       "    <tr>\n",
       "      <th>2</th>\n",
       "      <td>1</td>\n",
       "      <td>3</td>\n",
       "      <td>26.0</td>\n",
       "      <td>7.9250</td>\n",
       "      <td>0</td>\n",
       "      <td>1</td>\n",
       "    </tr>\n",
       "    <tr>\n",
       "      <th>3</th>\n",
       "      <td>1</td>\n",
       "      <td>1</td>\n",
       "      <td>35.0</td>\n",
       "      <td>53.1000</td>\n",
       "      <td>0</td>\n",
       "      <td>2</td>\n",
       "    </tr>\n",
       "    <tr>\n",
       "      <th>4</th>\n",
       "      <td>0</td>\n",
       "      <td>3</td>\n",
       "      <td>35.0</td>\n",
       "      <td>8.0500</td>\n",
       "      <td>1</td>\n",
       "      <td>1</td>\n",
       "    </tr>\n",
       "  </tbody>\n",
       "</table>\n",
       "</div>"
      ],
      "text/plain": [
       "   Survived  Pclass   Age     Fare  Sex_male  FamilySize\n",
       "0         0       3  22.0   7.2500         1           2\n",
       "1         1       1  38.0  71.2833         0           2\n",
       "2         1       3  26.0   7.9250         0           1\n",
       "3         1       1  35.0  53.1000         0           2\n",
       "4         0       3  35.0   8.0500         1           1"
      ]
     },
     "execution_count": 5,
     "metadata": {},
     "output_type": "execute_result"
    }
   ],
   "source": [
    "# Encode categorical features\n",
    "df = pd.get_dummies(df, columns=['Sex'], drop_first=True)\n",
    "df['Sex_male'] = df['Sex_male'].astype(int)\n",
    "\n",
    "# New features\n",
    "df['FamilySize'] = df['Siblings/Spouses Aboard'] + df['Parents/Children Aboard'] + 1\n",
    "\n",
    "# Drop unnecessary columns\n",
    "df.drop(columns=['Name', 'Siblings/Spouses Aboard', 'Parents/Children Aboard'], inplace=True)\n",
    "df.head()"
   ]
  },
  {
   "cell_type": "markdown",
   "id": "49dcbe6a",
   "metadata": {
    "lines_to_next_cell": 2
   },
   "source": [
    "- **Family Size**: Create a new feature representing the total number of family members on board.\n",
    "  - **Conclusion**: This feature might help us understand the impact of family size on survival rates."
   ]
  },
  {
   "cell_type": "markdown",
   "id": "4f1d220f",
   "metadata": {},
   "source": [
    "# Q12a. Conditional Probability Calculations"
   ]
  },
  {
   "cell_type": "code",
   "execution_count": 6,
   "id": "e259fdd5",
   "metadata": {},
   "outputs": [
    {
     "name": "stdout",
     "output_type": "stream",
     "text": [
      "P(S=true | G=female, C=1): 0.97\n",
      "P(S=true | G=female, C=2): 0.92\n",
      "P(S=true | G=female, C=3): 0.50\n",
      "P(S=true | G=male, C=1): 0.37\n",
      "P(S=true | G=male, C=2): 0.16\n",
      "P(S=true | G=male, C=3): 0.14\n"
     ]
    }
   ],
   "source": [
    "# Function to calculate conditional probability\n",
    "def conditional_probability(df, condition):\n",
    "    subset = df[condition]\n",
    "    return subset['Survived'].mean()\n",
    "\n",
    "# Conditional probabilities\n",
    "# Note: Using Sex_male as Sex_female (first occurrence) is dropped.\n",
    "prob_female_class1 = conditional_probability(df, (df['Sex_male'] == 0) & (df['Pclass'] == 1))\n",
    "prob_female_class2 = conditional_probability(df, (df['Sex_male'] == 0) & (df['Pclass'] == 2))\n",
    "prob_female_class3 = conditional_probability(df, (df['Sex_male'] == 0) & (df['Pclass'] == 3))\n",
    "prob_male_class1 = conditional_probability(df, (df['Sex_male'] == 1) & (df['Pclass'] == 1))\n",
    "prob_male_class2 = conditional_probability(df, (df['Sex_male'] == 1) & (df['Pclass'] == 2))\n",
    "prob_male_class3 = conditional_probability(df, (df['Sex_male'] == 1) & (df['Pclass'] == 3))\n",
    "\n",
    "print(f'P(S=true | G=female, C=1): {prob_female_class1:.2f}')\n",
    "print(f'P(S=true | G=female, C=2): {prob_female_class2:.2f}')\n",
    "print(f'P(S=true | G=female, C=3): {prob_female_class3:.2f}')\n",
    "print(f'P(S=true | G=male, C=1): {prob_male_class1:.2f}')\n",
    "print(f'P(S=true | G=male, C=2): {prob_male_class2:.2f}')\n",
    "print(f'P(S=true | G=male, C=3): {prob_male_class3:.2f}')"
   ]
  },
  {
   "cell_type": "markdown",
   "id": "8c0e75f7",
   "metadata": {
    "lines_to_next_cell": 2
   },
   "source": [
    "## Survival Probabilities by Group\n",
    "- **P(S=true | G=female, C=1)**: Probability of survival for females in first class.\n",
    "  - **Conclusion**: Females in first class had a high survival rate.\n",
    "- **P(S=true | G=female, C=2)**: Probability of survival for females in second class.\n",
    "  - **Conclusion**: Females in second class had a moderate survival rate.\n",
    "- **P(S=true | G=female, C=3)**: Probability of survival for females in third class.\n",
    "  - **Conclusion**: Females in third class had a lower survival rate.\n",
    "- **P(S=true | G=male, C=1)**: Probability of survival for males in first class.\n",
    "  - **Conclusion**: Males in first class had a moderate survival rate.\n",
    "- **P(S=true | G=male, C=2)**: Probability of survival for males in second class.\n",
    "  - **Conclusion**: Males in second class had a lower survival rate.\n",
    "- **P(S=true | G=male, C=3)**: Probability of survival for males in third class.\n",
    "  - **Conclusion**: Males in third class had the lowest survival rate."
   ]
  },
  {
   "cell_type": "markdown",
   "id": "3741d459",
   "metadata": {},
   "source": [
    "# Q12b. Bayesian Approach for Small Data Points"
   ]
  },
  {
   "cell_type": "code",
   "execution_count": 7,
   "id": "1d53e353",
   "metadata": {},
   "outputs": [
    {
     "name": "stdout",
     "output_type": "stream",
     "text": [
      "Parameters for the belief distribution: alpha=23, beta=32\n",
      "Expected probability of survival: 0.42\n"
     ]
    }
   ],
   "source": [
    "# Filter data for children in third class aged 10 or younger\n",
    "children = df[(df['Age'] <= 10) & (df['Pclass'] == 3)]\n",
    "\n",
    "# Number of successes (survived) and trials (total children in this group)\n",
    "successes = children['Survived'].sum()\n",
    "trials = len(children)\n",
    "\n",
    "# Beta distribution parameters\n",
    "alpha = 1 + successes\n",
    "beta_param = 1 + trials - successes\n",
    "\n",
    "# Create beta distribution\n",
    "from scipy.stats import beta\n",
    "belief_distribution = beta(alpha, beta_param)\n",
    "\n",
    "print(f\"Parameters for the belief distribution: alpha={alpha}, beta={beta_param}\")\n",
    "print(f\"Expected probability of survival: {belief_distribution.mean():.2f}\")"
   ]
  },
  {
   "cell_type": "markdown",
   "id": "8ef7c389",
   "metadata": {
    "lines_to_next_cell": 2
   },
   "source": [
    "## Bayesian Inference for Small Groups\n",
    "- **Objective**: Estimate the probability of survival for children aged 10 or younger in third class.\n",
    "- **Beta Distribution**: Use a Beta distribution to represent our belief about the survival probability.\n",
    "  - `alpha` (α): 1 plus the number of survivors.\n",
    "  - `beta` (β): 1 plus the number of non-survivors.\n",
    "- **Result**: The expected probability of survival based on the Beta distribution.\n",
    "  - **Conclusion**: This provides a robust estimate of survival probability, even with a small sample size."
   ]
  },
  {
   "cell_type": "markdown",
   "id": "ec54e554",
   "metadata": {},
   "source": [
    "# Q12c. Expected Fare Calculation"
   ]
  },
  {
   "cell_type": "code",
   "execution_count": 8,
   "id": "be5e4d6a",
   "metadata": {},
   "outputs": [
    {
     "name": "stdout",
     "output_type": "stream",
     "text": [
      "E[X | C=1]: 84.15\n",
      "E[X | C=2]: 20.66\n",
      "E[X | C=3]: 13.71\n"
     ]
    }
   ],
   "source": [
    "# Function to calculate expected fare based on class\n",
    "def expected_fare(df, pclass):\n",
    "    return df[df['Pclass'] == pclass]['Fare'].mean()\n",
    "\n",
    "# Expected fares\n",
    "expected_fare_class1 = expected_fare(df, 1)\n",
    "expected_fare_class2 = expected_fare(df, 2)\n",
    "expected_fare_class3 = expected_fare(df, 3)\n",
    "\n",
    "print(f\"E[X | C=1]: {expected_fare_class1:.2f}\")\n",
    "print(f\"E[X | C=2]: {expected_fare_class2:.2f}\")\n",
    "print(f\"E[X | C=3]: {expected_fare_class3:.2f}\")"
   ]
  },
  {
   "cell_type": "markdown",
   "id": "7d660717",
   "metadata": {
    "lines_to_next_cell": 2
   },
   "source": [
    "## Average Fare by Class\n",
    "- **E[X | C=1]**: Average fare for first class passengers.\n",
    "  - **Conclusion**: First class passengers paid the highest fares.\n",
    "- **E[X | C=2]**: Average fare for second class passengers.\n",
    "  - **Conclusion**: Second class passengers paid moderate fares.\n",
    "- **E[X | C=3]**: Average fare for third class passengers.\n",
    "  - **Conclusion**: Third class passengers paid the lowest fares."
   ]
  },
  {
   "cell_type": "markdown",
   "id": "efdfd305",
   "metadata": {},
   "source": [
    "# Model Building"
   ]
  },
  {
   "cell_type": "code",
   "execution_count": 9,
   "id": "07361ca0",
   "metadata": {},
   "outputs": [],
   "source": [
    "from sklearn.model_selection import train_test_split\n",
    "from sklearn.linear_model import LogisticRegression\n",
    "from sklearn.ensemble import RandomForestClassifier\n",
    "from sklearn.metrics import accuracy_score, confusion_matrix, classification_report\n",
    "\n",
    "# Split data\n",
    "X = df.drop(columns='Survived')\n",
    "y = df['Survived']\n",
    "X_train, X_test, y_train, y_test = train_test_split(X, y, test_size=0.2, random_state=42)\n",
    "\n",
    "# Train models\n",
    "logreg = LogisticRegression(max_iter=200)\n",
    "logreg.fit(X_train, y_train)\n",
    "\n",
    "rf = RandomForestClassifier(n_estimators=100)\n",
    "rf.fit(X_train, y_train);"
   ]
  },
  {
   "cell_type": "markdown",
   "id": "e990d87c",
   "metadata": {},
   "source": [
    "# Model Evaluation"
   ]
  },
  {
   "cell_type": "code",
   "execution_count": 10,
   "id": "a63f061f",
   "metadata": {},
   "outputs": [
    {
     "name": "stdout",
     "output_type": "stream",
     "text": [
      "Logistic Regression Accuracy: 0.75\n",
      "Confusion Matrix:\n",
      " [[97 14]\n",
      " [30 37]]\n",
      "Classification Report:\n",
      "               precision    recall  f1-score   support\n",
      "\n",
      "           0       0.76      0.87      0.82       111\n",
      "           1       0.73      0.55      0.63        67\n",
      "\n",
      "    accuracy                           0.75       178\n",
      "   macro avg       0.74      0.71      0.72       178\n",
      "weighted avg       0.75      0.75      0.74       178\n",
      "\n",
      "Random Forest Accuracy: 0.79\n",
      "Confusion Matrix:\n",
      " [[92 19]\n",
      " [19 48]]\n",
      "Classification Report:\n",
      "               precision    recall  f1-score   support\n",
      "\n",
      "           0       0.83      0.83      0.83       111\n",
      "           1       0.72      0.72      0.72        67\n",
      "\n",
      "    accuracy                           0.79       178\n",
      "   macro avg       0.77      0.77      0.77       178\n",
      "weighted avg       0.79      0.79      0.79       178\n",
      "\n"
     ]
    }
   ],
   "source": [
    "# Evaluate models\n",
    "logreg_pred = logreg.predict(X_test)\n",
    "rf_pred = rf.predict(X_test)\n",
    "\n",
    "# Logistic Regression\n",
    "print(f'Logistic Regression Accuracy: {accuracy_score(y_test, logreg_pred):.2f}')\n",
    "print('Confusion Matrix:\\n', confusion_matrix(y_test, logreg_pred))\n",
    "print('Classification Report:\\n', classification_report(y_test, logreg_pred))\n",
    "\n",
    "# Random Forest\n",
    "print(f'Random Forest Accuracy: {accuracy_score(y_test, rf_pred):.2f}')\n",
    "print('Confusion Matrix:\\n', confusion_matrix(y_test, rf_pred))\n",
    "print('Classification Report:\\n', classification_report(y_test, rf_pred))"
   ]
  },
  {
   "cell_type": "markdown",
   "id": "b8db8102",
   "metadata": {
    "lines_to_next_cell": 2
   },
   "source": [
    "- **Accuracy**: The accuracy of the model on the test data.\n",
    "  - **Conclusion**: The model's accuracy indicates how well it can predict survival.\n",
    "- **Confusion Matrix**: Shows the number of true positive, true negative, false positive, and false negative predictions.\n",
    "  - **Conclusion**: The confusion matrix helps us understand the types of errors the model is making.\n",
    "- **Classification Report**: Provides precision, recall, and F1-score for each class (survived and not survived).\n",
    "  - **Conclusion**: The classification report offers a detailed breakdown of the model's performance for each class, highlighting areas where the model performs well and where it may need improvement."
   ]
  },
  {
   "cell_type": "markdown",
   "id": "50b98b35",
   "metadata": {},
   "source": [
    "## Conclusion\n",
    "- **Performance Comparison**: The Random Forest model has a slightly higher accuracy compared to the Logistic Regression model, indicating that it performs better on this dataset.\n",
    "  - **Good Performance**: An accuracy of 0.78 suggests that the Random Forest model is correctly predicting the survival of passengers 78% of the time. This is a decent performance, especially considering the complexity of the survival prediction problem.\n",
    "  - **Room for Improvement**: While the model performs well, there is still room for improvement. Further tuning of model parameters or the use of more advanced techniques could potentially increase accuracy.\n",
    "\n",
    "### Model Interpretation\n",
    "- **Feature Importance**: Random Forest models provide insights into which features are most important for making predictions. Below, we list the importance of each feature."
   ]
  },
  {
   "cell_type": "code",
   "execution_count": 11,
   "id": "25a52760",
   "metadata": {},
   "outputs": [
    {
     "data": {
      "image/png": "[encoded data removed]",
      "text/plain": [
       "<Figure size 1000x600 with 1 Axes>"
      ]
     },
     "metadata": {},
     "output_type": "display_data"
    }
   ],
   "source": [
    "# Feature importance\n",
    "feature_importances = rf.feature_importances_\n",
    "features = X.columns\n",
    "\n",
    "# Create a DataFrame for visualization\n",
    "importance_df = pd.DataFrame({\n",
    "    'Feature': features,\n",
    "    'Importance': feature_importances\n",
    "}).sort_values(by='Importance', ascending=False)\n",
    "\n",
    "# Plotting feature importances\n",
    "plt.figure(figsize=(10, 6))\n",
    "sns.barplot(x='Importance', y='Feature', data=importance_df)\n",
    "plt.title('Feature Importances in Random Forest Model')\n",
    "plt.show()"
   ]
  },
  {
   "cell_type": "markdown",
   "id": "c379b457",
   "metadata": {
    "lines_to_next_cell": 2
   },
   "source": [
    "- **Feature Importance Visualization**: The bar plot above shows the importance of each feature in the Random Forest model.\n",
    "  - **Conclusion**: `Sex`, `Fare`, and `Age` contributed the most to predicting survival.\n",
    "\n",
    "By comparing the Random Forest and Logistic Regression models, we can conclude that the Random Forest model performs slightly better in terms of accuracy. Additionally, understanding the feature importances helps in interpreting the model's decisions, which can be valuable for further analysis and potential improvements."
   ]
  },
  {
   "cell_type": "markdown",
   "id": "17ebcaf8",
   "metadata": {},
   "source": [
    "# Conclusion\n",
    "In this project, we used the Titanic dataset to build predictive models for passenger survival. \n",
    "The Random Forest model achieved better performance compared to the Logistic Regression model. \n",
    "Feature engineering helped improve the model accuracy slightly.\n",
    "\n",
    "We also calculated conditional probabilities for survival given sex and passenger class, \n",
    "used Bayesian inference to estimate the probability of survival for children in third class aged 10 or younger,\n",
    "and computed the expected fare for each passenger class."
   ]
  },
  {
   "cell_type": "markdown",
   "id": "f0a212ae",
   "metadata": {},
   "source": [
    "# Future Work\n",
    "\n",
    "- Conduct more detailed exploratory data analysis and visualizations.\n",
    "- Explore additional features and more sophisticated feature engineering.\n",
    "- Hyperparameter tuning for the Random Forest model to further improve accuracy.\n",
    "- Try other advanced algorithms like Gradient Boosting or XGBoost."
   ]
  }
 ],
 "metadata": {
  "jupytext": {
   "cell_metadata_filter": "-all",
   "main_language": "python",
   "notebook_metadata_filter": "-all"
  },
  "kernelspec": {
   "display_name": "Python 3 (ipykernel)",
   "language": "python",
   "name": "python3"
  },
  "language_info": {
   "codemirror_mode": {
    "name": "ipython",
    "version": 3
   },
   "file_extension": ".py",
   "mimetype": "text/x-python",
   "name": "python",
   "nbconvert_exporter": "python",
   "pygments_lexer": "ipython3",
   "version": "3.12.4"
  }
 },
 "nbformat": 4,
 "nbformat_minor": 5
}
